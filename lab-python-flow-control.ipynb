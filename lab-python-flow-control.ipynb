{
 "cells": [
  {
   "cell_type": "markdown",
   "id": "d3bfc191-8885-42ee-b0a0-bbab867c6f9f",
   "metadata": {
    "tags": []
   },
   "source": [
    "# Lab | Flow Control"
   ]
  },
  {
   "cell_type": "markdown",
   "id": "3851fcd1-cf98-4653-9c89-e003b7ec9400",
   "metadata": {},
   "source": [
    "## Exercise: Managing Customer Orders Optimized\n",
    "\n",
    "In the last lab, you were starting an online store that sells various products. To ensure smooth operations, you developed a program that manages customer orders and inventory.\n",
    "\n",
    "You did so without using flow control. Let's go a step further and improve this code.\n",
    "\n",
    "Follow the steps below to complete the exercise:\n",
    "\n",
    "1. Look at your code from the lab data structures, and improve repeated code with loops.\n",
    "\n",
    "2. Instead of asking the user to input the name of three products that a customer wants to order, do the following:\n",
    "    \n",
    "    a. Prompt the user to enter the name of a product that a customer wants to order.\n",
    "    \n",
    "    b. Add the product name to the \"customer_orders\" set.\n",
    "    \n",
    "    c. Ask the user if they want to add another product (yes/no).\n",
    "    \n",
    "    d. Continue the loop until the user does not want to add another product.\n",
    "\n",
    "3. Instead of updating the inventory by subtracting 1 from the quantity of each product, only do it for  the products that were ordered (those in \"customer_orders\")."
   ]
  },
  {
   "cell_type": "code",
   "execution_count": null,
   "id": "ec934ab4",
   "metadata": {},
   "outputs": [
    {
     "name": "stdout",
     "output_type": "stream",
     "text": [
      "{'t-shirt': 20, 'mug': 20, 'hat': 20, 'book': 20, 'keychain': 20}\n",
      "thank you for your order!\n",
      "{'hat', 't-shirt', 'book', 'mug'}\n",
      "\n",
      "Updated inventory\n",
      "t-shirt:19\n",
      "mug:19\n",
      "hat:19\n",
      "book:19\n",
      "keychain:20\n"
     ]
    }
   ],
   "source": [
    "#1 define the list of products\n",
    "products=[\"t-shirt\",\"mug\",\"hat\",\"book\",\"keychain\"] \n",
    "#type(products)\n",
    "\n",
    "#2 create an empty dictionary \n",
    "inventory={}\n",
    "#type(inventory)\n",
    "\n",
    "#3 ask user to input the quantity for each product\n",
    "for product in products:\n",
    "    quantity = int(input(f\"Enter the quantity for {product}:\"))\n",
    "    inventory[product]=quantity \n",
    "print(inventory)\n",
    "#4 create an empty set\n",
    "customer_orders=set()\n",
    "\n",
    "while True:\n",
    "    order=input(f'please enter the name of your order choose from: {products}:')#Prompt the user to enter the name of a product that a customer wants to order\n",
    "    if order in products:\n",
    "        customer_orders.add(order)# Add the product name to the customer_orders set\n",
    "        add_order=input(\"would you like to order another product?' 'yes' or 'no'\")# ask the user if they want to add another product \n",
    "        if add_order=='yes':\n",
    "            customer_orders.add(order)\n",
    "            continue # continue the loop\n",
    "        elif add_order=='no': #until the user does not want to add another product\n",
    "            print('thank you for your order!')\n",
    "            break\n",
    "    else: \n",
    "        print('invalid product, please choose from the list')\n",
    "     \n",
    "print(customer_orders)\n",
    "# Updating the inventory by subtracting 1 from the quantity of each ordered product\n",
    "for product in customer_orders:\n",
    "    if product in inventory and inventory[product]>0:\n",
    "        inventory[product]-=1\n",
    "print(\"\\nUpdated inventory\")       \n",
    "for product,quantity in inventory.items():\n",
    "    print(f\"{product}:{quantity}\")\n"
   ]
  }
 ],
 "metadata": {
  "kernelspec": {
   "display_name": "Python 3",
   "language": "python",
   "name": "python3"
  },
  "language_info": {
   "codemirror_mode": {
    "name": "ipython",
    "version": 3
   },
   "file_extension": ".py",
   "mimetype": "text/x-python",
   "name": "python",
   "nbconvert_exporter": "python",
   "pygments_lexer": "ipython3",
   "version": "3.13.2"
  }
 },
 "nbformat": 4,
 "nbformat_minor": 5
}
